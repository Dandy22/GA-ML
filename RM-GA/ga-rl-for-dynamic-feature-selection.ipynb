{
 "cells": [
  {
   "cell_type": "markdown",
   "id": "28df859b",
   "metadata": {},
   "source": [
    "## GENETIK ALGORITMA\n"
   ]
  },
  {
   "cell_type": "code",
   "execution_count": 209,
   "id": "b42b8017",
   "metadata": {},
   "outputs": [],
   "source": [
    "import pandas as pd\n",
    "import numpy as np\n",
    "import matplotlib.pyplot as plt\n",
    "import seaborn as sns\n",
    "from sklearn.model_selection import cross_val_score, train_test_split\n",
    "from sklearn.metrics import accuracy_score, precision_score, recall_score, f1_score, roc_auc_score\n",
    "from sklearn.ensemble import RandomForestClassifier\n",
    "from sklearn.preprocessing import LabelEncoder, MinMaxScaler\n",
    "import pygad\n",
    "import warnings"
   ]
  },
  {
   "cell_type": "code",
   "execution_count": 210,
   "id": "bd5d0163",
   "metadata": {},
   "outputs": [],
   "source": [
    "warnings.filterwarnings('ignore')\n",
    "\n",
    "# Load datasets\n",
    "kdd_train = pd.read_csv('/Users/dandyantariksa/Downloads/RM-GA/KDDTrain+.txt', header=None)\n",
    "kdd_test = pd.read_csv('/Users/dandyantariksa/Downloads/RM-GA/KDDTest+.txt', header=None)\n",
    "\n",
    "kdd_train = kdd_train.iloc[:,:-1]\n",
    "kdd_test = kdd_test.iloc[:,:-1]"
   ]
  },
  {
   "cell_type": "code",
   "execution_count": 211,
   "id": "90f20b78",
   "metadata": {},
   "outputs": [],
   "source": [
    "columns = (['duration'\n",
    ",'protocol_type'\n",
    ",'service'\n",
    ",'flag'\n",
    ",'src_bytes'\n",
    ",'dst_bytes'\n",
    ",'land'\n",
    ",'wrong_fragment'\n",
    ",'urgent'\n",
    ",'hot'\n",
    ",'num_failed_logins'\n",
    ",'logged_in'\n",
    ",'num_compromised'\n",
    ",'root_shell'\n",
    ",'su_attempted'\n",
    ",'num_root'\n",
    ",'num_file_creations'\n",
    ",'num_shells'\n",
    ",'num_access_files'\n",
    ",'num_outbound_cmds'\n",
    ",'is_host_login'\n",
    ",'is_guest_login'\n",
    ",'count'\n",
    ",'srv_count'\n",
    ",'serror_rate'\n",
    ",'srv_serror_rate'\n",
    ",'rerror_rate'\n",
    ",'srv_rerror_rate'\n",
    ",'same_srv_rate'\n",
    ",'diff_srv_rate'\n",
    ",'srv_diff_host_rate'\n",
    ",'dst_host_count'\n",
    ",'dst_host_srv_count'\n",
    ",'dst_host_same_srv_rate'\n",
    ",'dst_host_diff_srv_rate'\n",
    ",'dst_host_same_src_port_rate'\n",
    ",'dst_host_srv_diff_host_rate'\n",
    ",'dst_host_serror_rate'\n",
    ",'dst_host_srv_serror_rate'\n",
    ",'dst_host_rerror_rate'\n",
    ",'dst_host_srv_rerror_rate'\n",
    ",'attack'])\n",
    "\n",
    "kdd_train.columns = columns\n",
    "kdd_test.columns = columns"
   ]
  },
  {
   "cell_type": "code",
   "execution_count": 212,
   "id": "cf737b5c",
   "metadata": {},
   "outputs": [],
   "source": [
    "# Label encoding for categorical variables\n",
    "label_encoders = {}\n",
    "for column in ['protocol_type', 'flag', 'service']:\n",
    "    le = LabelEncoder()\n",
    "    kdd_train[column] = le.fit_transform(kdd_train[column])\n",
    "    kdd_test[column] = le.transform(kdd_test[column])\n",
    "    label_encoders[column] = le"
   ]
  },
  {
   "cell_type": "code",
   "execution_count": 213,
   "id": "feedd116",
   "metadata": {},
   "outputs": [],
   "source": [
    "# Feature scaling\n",
    "log_features = ['duration', 'src_bytes', 'dst_bytes']\n",
    "kdd_train[log_features] = kdd_train[log_features].apply(lambda x: np.log1p(x))\n",
    "kdd_test[log_features] = kdd_test[log_features].apply(lambda x: np.log1p(x))\n",
    "\n",
    "minmax = MinMaxScaler()\n",
    "minmax.fit(kdd_train[log_features])\n",
    "kdd_train[log_features] = minmax.transform(kdd_train[log_features])\n",
    "kdd_test[log_features] = minmax.transform(kdd_test[log_features])"
   ]
  },
  {
   "cell_type": "code",
   "execution_count": 214,
   "id": "65266a53",
   "metadata": {},
   "outputs": [],
   "source": [
    "# Define the training function\n",
    "def train_RF(num_epochs, epsilon, decline_limit):\n",
    "    model = RandomForestClassifier()  # Ganti ini jika diperlukan\n",
    "    X = kdd_train.drop('attack', axis=1)\n",
    "    y = kdd_train['attack']\n",
    "    accuracies = cross_val_score(model, X, y, cv=5)  # 5-fold cross-validation\n",
    "    final_accuracy = np.mean(accuracies)\n",
    "    return final_accuracy, None, None  # Ubah None sesuai kebutuhan"
   ]
  },
  {
   "cell_type": "code",
   "execution_count": 215,
   "id": "c4cbbeb2",
   "metadata": {},
   "outputs": [],
   "source": [
    "# Genetic Algorithm for optimizing hyperparameters\n",
    "def fitness_func(ga_instance, solution, solution_idx):\n",
    "    epsilon, decline_limit = solution\n",
    "    final_accuracy, _, _ = train_RF(num_epochs=1, epsilon=epsilon, decline_limit=decline_limit)\n",
    "    return final_accuracy\n"
   ]
  },
  {
   "cell_type": "code",
   "execution_count": 216,
   "id": "9f055f70",
   "metadata": {},
   "outputs": [],
   "source": [
    "# Define gene space for Genetic Algorithm\n",
    "gene_space = [\n",
    "    [0.1, 0.2],  # epsilon\n",
    "    [1, 2]       # decline_limit\n",
    "]\n"
   ]
  },
  {
   "cell_type": "code",
   "execution_count": 217,
   "id": "707ece2e",
   "metadata": {},
   "outputs": [],
   "source": [
    "# Setting up the Genetic Algorithm\n",
    "ga_instance = pygad.GA(\n",
    "    num_generations=2,\n",
    "    num_parents_mating=3,\n",
    "    fitness_func=fitness_func,\n",
    "    sol_per_pop=10,\n",
    "    num_genes=2,\n",
    "    gene_space=gene_space,\n",
    "    parent_selection_type=\"sss\",\n",
    "    crossover_type=\"single_point\",\n",
    "    mutation_type=\"random\",\n",
    "    mutation_probability=0.1\n",
    ")"
   ]
  },
  {
   "cell_type": "code",
   "execution_count": 218,
   "id": "e3555ca4",
   "metadata": {},
   "outputs": [],
   "source": [
    "# Run the Genetic Algorithm\n",
    "ga_instance.run()\n",
    "\n"
   ]
  },
  {
   "cell_type": "code",
   "execution_count": 219,
   "id": "83fa9125",
   "metadata": {},
   "outputs": [
    {
     "name": "stdout",
     "output_type": "stream",
     "text": [
      "Best solution: epsilon=0.2, decline_limit=1.0\n",
      "Fitness value of the best solution: 0.998531431337906\n"
     ]
    }
   ],
   "source": [
    "# Retrieve the best solution from the GA\n",
    "solution, solution_fitness, solution_idx = ga_instance.best_solution()\n",
    "print(f\"Best solution: epsilon={solution[0]}, decline_limit={solution[1]}\")\n",
    "print(f\"Fitness value of the best solution: {solution_fitness}\")"
   ]
  },
  {
   "cell_type": "markdown",
   "id": "7682e271",
   "metadata": {},
   "source": [
    "## NEUTRAL NETWORKS"
   ]
  },
  {
   "cell_type": "code",
   "execution_count": 220,
   "id": "a1b13e63",
   "metadata": {},
   "outputs": [],
   "source": [
    "import tensorflow as tf\n",
    "from sklearn.preprocessing import LabelEncoder\n",
    "from sklearn.metrics import recall_score"
   ]
  },
  {
   "cell_type": "code",
   "execution_count": 221,
   "id": "181c67f0",
   "metadata": {},
   "outputs": [],
   "source": [
    "kdd_combined = pd.concat([kdd_train, kdd_test], keys=['train', 'test'])\n"
   ]
  },
  {
   "cell_type": "code",
   "execution_count": 222,
   "id": "b362629f",
   "metadata": {},
   "outputs": [],
   "source": [
    "# Mengonversi kolom 'attack' ke format numerik\n",
    "label_encoder = LabelEncoder()\n",
    "kdd_combined['attack'] = label_encoder.fit_transform(kdd_combined['attack'])"
   ]
  },
  {
   "cell_type": "code",
   "execution_count": 223,
   "id": "73274294",
   "metadata": {},
   "outputs": [],
   "source": [
    "# Pisahkan kembali data pelatihan dan pengujian\n",
    "y_train = kdd_combined.xs('train')['attack'].values\n",
    "y_test = kdd_combined.xs('test')['attack'].values"
   ]
  },
  {
   "cell_type": "code",
   "execution_count": 224,
   "id": "ee3e0933",
   "metadata": {},
   "outputs": [],
   "source": [
    "\n",
    "# Mengambil fitur (X) dari dataset\n",
    "x_train = kdd_combined.xs('train').drop('attack', axis=1).values\n",
    "x_test = kdd_combined.xs('test').drop('attack', axis=1).values\n"
   ]
  },
  {
   "cell_type": "code",
   "execution_count": 225,
   "id": "c075a9a4",
   "metadata": {},
   "outputs": [],
   "source": [
    "\n",
    "# Mengambil fitur (X) dari dataset\n",
    "x_train = kdd_combined.xs('train').drop('attack', axis=1).values\n",
    "x_test = kdd_combined.xs('test').drop('attack', axis=1).values\n"
   ]
  },
  {
   "cell_type": "code",
   "execution_count": 226,
   "id": "050dc43d",
   "metadata": {},
   "outputs": [],
   "source": [
    "# Model Neural Network\n",
    "model_nn = tf.keras.Sequential([\n",
    "    tf.keras.layers.Dense(units=64, activation='relu', input_shape=(x_train.shape[1],),\n",
    "                          kernel_regularizer=tf.keras.regularizers.L1L2(l1=1e-5, l2=1e-4),\n",
    "                          bias_regularizer=tf.keras.regularizers.L2(1e-4),\n",
    "                          activity_regularizer=tf.keras.regularizers.L2(1e-5)),\n",
    "    tf.keras.layers.Dropout(0.4),\n",
    "    tf.keras.layers.Dense(units=128, activation='relu',\n",
    "                          kernel_regularizer=tf.keras.regularizers.L1L2(l1=1e-5, l2=1e-4),\n",
    "                          bias_regularizer=tf.keras.regularizers.L2(1e-4),\n",
    "                          activity_regularizer=tf.keras.regularizers.L2(1e-5)),\n",
    "    tf.keras.layers.Dropout(0.4),\n",
    "    tf.keras.layers.Dense(units=512, activation='relu',\n",
    "                          kernel_regularizer=tf.keras.regularizers.L1L2(l1=1e-5, l2=1e-4),\n",
    "                          bias_regularizer=tf.keras.regularizers.L2(1e-4),\n",
    "                          activity_regularizer=tf.keras.regularizers.L2(1e-5)),\n",
    "    tf.keras.layers.Dropout(0.4),\n",
    "    tf.keras.layers.Dense(units=128, activation='relu',\n",
    "                          kernel_regularizer=tf.keras.regularizers.L1L2(l1=1e-5, l2=1e-4),\n",
    "                          bias_regularizer=tf.keras.regularizers.L2(1e-4),\n",
    "                          activity_regularizer=tf.keras.regularizers.L2(1e-5)),\n",
    "    tf.keras.layers.Dropout(0.4),\n",
    "    tf.keras.layers.Dense(units=1, activation='sigmoid'),  # Sesuaikan dengan binary classification\n",
    "])\n"
   ]
  },
  {
   "cell_type": "code",
   "execution_count": 227,
   "id": "363722a2",
   "metadata": {},
   "outputs": [],
   "source": [
    "# Compile the model\n",
    "model_nn.compile(optimizer='adam', loss='binary_crossentropy', metrics=['accuracy'])"
   ]
  },
  {
   "cell_type": "code",
   "execution_count": 228,
   "id": "5ebc7620",
   "metadata": {},
   "outputs": [
    {
     "name": "stdout",
     "output_type": "stream",
     "text": [
      "Epoch 1/50\n",
      "\u001b[1m3937/3937\u001b[0m \u001b[32m━━━━━━━━━━━━━━━━━━━━\u001b[0m\u001b[37m\u001b[0m \u001b[1m14s\u001b[0m 3ms/step - accuracy: 0.0078 - loss: -43729864.0000\n",
      "Epoch 2/50\n",
      "\u001b[1m3937/3937\u001b[0m \u001b[32m━━━━━━━━━━━━━━━━━━━━\u001b[0m\u001b[37m\u001b[0m \u001b[1m11s\u001b[0m 3ms/step - accuracy: 0.0078 - loss: -514535040.0000\n",
      "Epoch 3/50\n",
      "\u001b[1m3937/3937\u001b[0m \u001b[32m━━━━━━━━━━━━━━━━━━━━\u001b[0m\u001b[37m\u001b[0m \u001b[1m11s\u001b[0m 3ms/step - accuracy: 0.0072 - loss: -1410443264.0000\n",
      "Epoch 4/50\n",
      "\u001b[1m3937/3937\u001b[0m \u001b[32m━━━━━━━━━━━━━━━━━━━━\u001b[0m\u001b[37m\u001b[0m \u001b[1m11s\u001b[0m 3ms/step - accuracy: 0.0071 - loss: -2705908992.0000\n",
      "Epoch 5/50\n",
      "\u001b[1m3937/3937\u001b[0m \u001b[32m━━━━━━━━━━━━━━━━━━━━\u001b[0m\u001b[37m\u001b[0m \u001b[1m10s\u001b[0m 3ms/step - accuracy: 0.0076 - loss: -4348161536.0000\n",
      "Epoch 6/50\n",
      "\u001b[1m3937/3937\u001b[0m \u001b[32m━━━━━━━━━━━━━━━━━━━━\u001b[0m\u001b[37m\u001b[0m \u001b[1m12s\u001b[0m 3ms/step - accuracy: 0.0077 - loss: -6361755136.0000\n",
      "Epoch 7/50\n",
      "\u001b[1m3937/3937\u001b[0m \u001b[32m━━━━━━━━━━━━━━━━━━━━\u001b[0m\u001b[37m\u001b[0m \u001b[1m12s\u001b[0m 3ms/step - accuracy: 0.0076 - loss: -8759425024.0000\n",
      "Epoch 8/50\n",
      "\u001b[1m3937/3937\u001b[0m \u001b[32m━━━━━━━━━━━━━━━━━━━━\u001b[0m\u001b[37m\u001b[0m \u001b[1m10s\u001b[0m 3ms/step - accuracy: 0.0079 - loss: -11471791104.0000\n",
      "Epoch 9/50\n",
      "\u001b[1m3937/3937\u001b[0m \u001b[32m━━━━━━━━━━━━━━━━━━━━\u001b[0m\u001b[37m\u001b[0m \u001b[1m11s\u001b[0m 3ms/step - accuracy: 0.0075 - loss: -14568031232.0000\n",
      "Epoch 10/50\n",
      "\u001b[1m3937/3937\u001b[0m \u001b[32m━━━━━━━━━━━━━━━━━━━━\u001b[0m\u001b[37m\u001b[0m \u001b[1m11s\u001b[0m 3ms/step - accuracy: 0.0073 - loss: -18026758144.0000\n",
      "Epoch 11/50\n",
      "\u001b[1m3937/3937\u001b[0m \u001b[32m━━━━━━━━━━━━━━━━━━━━\u001b[0m\u001b[37m\u001b[0m \u001b[1m11s\u001b[0m 3ms/step - accuracy: 0.0076 - loss: -21850886144.0000\n",
      "Epoch 12/50\n",
      "\u001b[1m3937/3937\u001b[0m \u001b[32m━━━━━━━━━━━━━━━━━━━━\u001b[0m\u001b[37m\u001b[0m \u001b[1m11s\u001b[0m 3ms/step - accuracy: 0.0076 - loss: -26011283456.0000\n",
      "Epoch 13/50\n",
      "\u001b[1m3937/3937\u001b[0m \u001b[32m━━━━━━━━━━━━━━━━━━━━\u001b[0m\u001b[37m\u001b[0m \u001b[1m11s\u001b[0m 3ms/step - accuracy: 0.0069 - loss: -30648963072.0000\n",
      "Epoch 14/50\n",
      "\u001b[1m3937/3937\u001b[0m \u001b[32m━━━━━━━━━━━━━━━━━━━━\u001b[0m\u001b[37m\u001b[0m \u001b[1m10s\u001b[0m 3ms/step - accuracy: 0.0074 - loss: -35573673984.0000\n",
      "Epoch 15/50\n",
      "\u001b[1m3937/3937\u001b[0m \u001b[32m━━━━━━━━━━━━━━━━━━━━\u001b[0m\u001b[37m\u001b[0m \u001b[1m10s\u001b[0m 3ms/step - accuracy: 0.0073 - loss: -40684052480.0000\n",
      "Epoch 16/50\n",
      "\u001b[1m3937/3937\u001b[0m \u001b[32m━━━━━━━━━━━━━━━━━━━━\u001b[0m\u001b[37m\u001b[0m \u001b[1m10s\u001b[0m 3ms/step - accuracy: 0.0075 - loss: -46332571648.0000\n",
      "Epoch 17/50\n",
      "\u001b[1m3937/3937\u001b[0m \u001b[32m━━━━━━━━━━━━━━━━━━━━\u001b[0m\u001b[37m\u001b[0m \u001b[1m10s\u001b[0m 3ms/step - accuracy: 0.0077 - loss: -52237205504.0000\n",
      "Epoch 18/50\n",
      "\u001b[1m3937/3937\u001b[0m \u001b[32m━━━━━━━━━━━━━━━━━━━━\u001b[0m\u001b[37m\u001b[0m \u001b[1m10s\u001b[0m 3ms/step - accuracy: 0.0076 - loss: -58606501888.0000\n",
      "Epoch 19/50\n",
      "\u001b[1m3937/3937\u001b[0m \u001b[32m━━━━━━━━━━━━━━━━━━━━\u001b[0m\u001b[37m\u001b[0m \u001b[1m10s\u001b[0m 3ms/step - accuracy: 0.0074 - loss: -65478352896.0000\n",
      "Epoch 20/50\n",
      "\u001b[1m3937/3937\u001b[0m \u001b[32m━━━━━━━━━━━━━━━━━━━━\u001b[0m\u001b[37m\u001b[0m \u001b[1m11s\u001b[0m 3ms/step - accuracy: 0.0077 - loss: -72461549568.0000\n",
      "Epoch 21/50\n",
      "\u001b[1m3937/3937\u001b[0m \u001b[32m━━━━━━━━━━━━━━━━━━━━\u001b[0m\u001b[37m\u001b[0m \u001b[1m11s\u001b[0m 3ms/step - accuracy: 0.0081 - loss: -79924715520.0000\n",
      "Epoch 22/50\n",
      "\u001b[1m3937/3937\u001b[0m \u001b[32m━━━━━━━━━━━━━━━━━━━━\u001b[0m\u001b[37m\u001b[0m \u001b[1m11s\u001b[0m 3ms/step - accuracy: 0.0072 - loss: -87937826816.0000\n",
      "Epoch 23/50\n",
      "\u001b[1m3937/3937\u001b[0m \u001b[32m━━━━━━━━━━━━━━━━━━━━\u001b[0m\u001b[37m\u001b[0m \u001b[1m11s\u001b[0m 3ms/step - accuracy: 0.0070 - loss: -95785934848.0000\n",
      "Epoch 24/50\n",
      "\u001b[1m3937/3937\u001b[0m \u001b[32m━━━━━━━━━━━━━━━━━━━━\u001b[0m\u001b[37m\u001b[0m \u001b[1m11s\u001b[0m 3ms/step - accuracy: 0.0073 - loss: -103995105280.0000\n",
      "Epoch 25/50\n",
      "\u001b[1m3937/3937\u001b[0m \u001b[32m━━━━━━━━━━━━━━━━━━━━\u001b[0m\u001b[37m\u001b[0m \u001b[1m11s\u001b[0m 3ms/step - accuracy: 0.0081 - loss: -112701145088.0000\n",
      "Epoch 26/50\n",
      "\u001b[1m3937/3937\u001b[0m \u001b[32m━━━━━━━━━━━━━━━━━━━━\u001b[0m\u001b[37m\u001b[0m \u001b[1m11s\u001b[0m 3ms/step - accuracy: 0.0077 - loss: -122058973184.0000\n",
      "Epoch 27/50\n",
      "\u001b[1m3937/3937\u001b[0m \u001b[32m━━━━━━━━━━━━━━━━━━━━\u001b[0m\u001b[37m\u001b[0m \u001b[1m11s\u001b[0m 3ms/step - accuracy: 0.0077 - loss: -131797843968.0000\n",
      "Epoch 28/50\n",
      "\u001b[1m3937/3937\u001b[0m \u001b[32m━━━━━━━━━━━━━━━━━━━━\u001b[0m\u001b[37m\u001b[0m \u001b[1m11s\u001b[0m 3ms/step - accuracy: 0.0077 - loss: -141798326272.0000\n",
      "Epoch 29/50\n",
      "\u001b[1m3937/3937\u001b[0m \u001b[32m━━━━━━━━━━━━━━━━━━━━\u001b[0m\u001b[37m\u001b[0m \u001b[1m11s\u001b[0m 3ms/step - accuracy: 0.0077 - loss: -151967547392.0000\n",
      "Epoch 30/50\n",
      "\u001b[1m3937/3937\u001b[0m \u001b[32m━━━━━━━━━━━━━━━━━━━━\u001b[0m\u001b[37m\u001b[0m \u001b[1m11s\u001b[0m 3ms/step - accuracy: 0.0076 - loss: -162627256320.0000\n",
      "Epoch 31/50\n",
      "\u001b[1m3937/3937\u001b[0m \u001b[32m━━━━━━━━━━━━━━━━━━━━\u001b[0m\u001b[37m\u001b[0m \u001b[1m11s\u001b[0m 3ms/step - accuracy: 0.0076 - loss: -173692354560.0000\n",
      "Epoch 32/50\n",
      "\u001b[1m3937/3937\u001b[0m \u001b[32m━━━━━━━━━━━━━━━━━━━━\u001b[0m\u001b[37m\u001b[0m \u001b[1m11s\u001b[0m 3ms/step - accuracy: 0.0077 - loss: -184602984448.0000\n",
      "Epoch 33/50\n",
      "\u001b[1m3937/3937\u001b[0m \u001b[32m━━━━━━━━━━━━━━━━━━━━\u001b[0m\u001b[37m\u001b[0m \u001b[1m11s\u001b[0m 3ms/step - accuracy: 0.0080 - loss: -196542840832.0000\n",
      "Epoch 34/50\n",
      "\u001b[1m3937/3937\u001b[0m \u001b[32m━━━━━━━━━━━━━━━━━━━━\u001b[0m\u001b[37m\u001b[0m \u001b[1m11s\u001b[0m 3ms/step - accuracy: 0.0076 - loss: -208488267776.0000\n",
      "Epoch 35/50\n",
      "\u001b[1m3937/3937\u001b[0m \u001b[32m━━━━━━━━━━━━━━━━━━━━\u001b[0m\u001b[37m\u001b[0m \u001b[1m11s\u001b[0m 3ms/step - accuracy: 0.0075 - loss: -222097293312.0000\n",
      "Epoch 36/50\n",
      "\u001b[1m3937/3937\u001b[0m \u001b[32m━━━━━━━━━━━━━━━━━━━━\u001b[0m\u001b[37m\u001b[0m \u001b[1m11s\u001b[0m 3ms/step - accuracy: 0.0073 - loss: -233947545600.0000\n",
      "Epoch 37/50\n",
      "\u001b[1m3937/3937\u001b[0m \u001b[32m━━━━━━━━━━━━━━━━━━━━\u001b[0m\u001b[37m\u001b[0m \u001b[1m11s\u001b[0m 3ms/step - accuracy: 0.0076 - loss: -246441443328.0000\n",
      "Epoch 38/50\n",
      "\u001b[1m3937/3937\u001b[0m \u001b[32m━━━━━━━━━━━━━━━━━━━━\u001b[0m\u001b[37m\u001b[0m \u001b[1m11s\u001b[0m 3ms/step - accuracy: 0.0075 - loss: -260820779008.0000\n",
      "Epoch 39/50\n",
      "\u001b[1m3937/3937\u001b[0m \u001b[32m━━━━━━━━━━━━━━━━━━━━\u001b[0m\u001b[37m\u001b[0m \u001b[1m11s\u001b[0m 3ms/step - accuracy: 0.0074 - loss: -274607718400.0000\n",
      "Epoch 40/50\n",
      "\u001b[1m3937/3937\u001b[0m \u001b[32m━━━━━━━━━━━━━━━━━━━━\u001b[0m\u001b[37m\u001b[0m \u001b[1m11s\u001b[0m 3ms/step - accuracy: 0.0077 - loss: -289291042816.0000\n",
      "Epoch 41/50\n",
      "\u001b[1m3937/3937\u001b[0m \u001b[32m━━━━━━━━━━━━━━━━━━━━\u001b[0m\u001b[37m\u001b[0m \u001b[1m11s\u001b[0m 3ms/step - accuracy: 0.0075 - loss: -302738407424.0000\n",
      "Epoch 42/50\n",
      "\u001b[1m3937/3937\u001b[0m \u001b[32m━━━━━━━━━━━━━━━━━━━━\u001b[0m\u001b[37m\u001b[0m \u001b[1m13s\u001b[0m 3ms/step - accuracy: 0.0075 - loss: -318430511104.0000\n",
      "Epoch 43/50\n",
      "\u001b[1m3937/3937\u001b[0m \u001b[32m━━━━━━━━━━━━━━━━━━━━\u001b[0m\u001b[37m\u001b[0m \u001b[1m17s\u001b[0m 4ms/step - accuracy: 0.0073 - loss: -334028013568.0000\n",
      "Epoch 44/50\n",
      "\u001b[1m3937/3937\u001b[0m \u001b[32m━━━━━━━━━━━━━━━━━━━━\u001b[0m\u001b[37m\u001b[0m \u001b[1m26s\u001b[0m 7ms/step - accuracy: 0.0076 - loss: -349547462656.0000\n",
      "Epoch 45/50\n",
      "\u001b[1m3937/3937\u001b[0m \u001b[32m━━━━━━━━━━━━━━━━━━━━\u001b[0m\u001b[37m\u001b[0m \u001b[1m25s\u001b[0m 6ms/step - accuracy: 0.0075 - loss: -364634243072.0000\n",
      "Epoch 46/50\n",
      "\u001b[1m3937/3937\u001b[0m \u001b[32m━━━━━━━━━━━━━━━━━━━━\u001b[0m\u001b[37m\u001b[0m \u001b[1m18s\u001b[0m 5ms/step - accuracy: 0.0076 - loss: -380313993216.0000\n",
      "Epoch 47/50\n",
      "\u001b[1m3937/3937\u001b[0m \u001b[32m━━━━━━━━━━━━━━━━━━━━\u001b[0m\u001b[37m\u001b[0m \u001b[1m16s\u001b[0m 4ms/step - accuracy: 0.0075 - loss: -397633945600.0000\n",
      "Epoch 48/50\n",
      "\u001b[1m3937/3937\u001b[0m \u001b[32m━━━━━━━━━━━━━━━━━━━━\u001b[0m\u001b[37m\u001b[0m \u001b[1m15s\u001b[0m 4ms/step - accuracy: 0.0075 - loss: -414956716032.0000\n",
      "Epoch 49/50\n",
      "\u001b[1m3937/3937\u001b[0m \u001b[32m━━━━━━━━━━━━━━━━━━━━\u001b[0m\u001b[37m\u001b[0m \u001b[1m14s\u001b[0m 4ms/step - accuracy: 0.0083 - loss: -430099660800.0000\n",
      "Epoch 50/50\n",
      "\u001b[1m3937/3937\u001b[0m \u001b[32m━━━━━━━━━━━━━━━━━━━━\u001b[0m\u001b[37m\u001b[0m \u001b[1m15s\u001b[0m 4ms/step - accuracy: 0.0073 - loss: -450155872256.0000\n"
     ]
    },
    {
     "data": {
      "text/plain": [
       "<keras.src.callbacks.history.History at 0x15c5d7e80>"
      ]
     },
     "execution_count": 228,
     "metadata": {},
     "output_type": "execute_result"
    }
   ],
   "source": [
    "# Melatih model\n",
    "model_nn.fit(x_train, y_train, epochs=50, batch_size=32, verbose=1)"
   ]
  },
  {
   "cell_type": "code",
   "execution_count": 229,
   "id": "81c45c3f",
   "metadata": {},
   "outputs": [
    {
     "name": "stdout",
     "output_type": "stream",
     "text": [
      "\u001b[1m3937/3937\u001b[0m \u001b[32m━━━━━━━━━━━━━━━━━━━━\u001b[0m\u001b[37m\u001b[0m \u001b[1m7s\u001b[0m 2ms/step\n",
      "\u001b[1m705/705\u001b[0m \u001b[32m━━━━━━━━━━━━━━━━━━━━\u001b[0m\u001b[37m\u001b[0m \u001b[1m1s\u001b[0m 2ms/step\n"
     ]
    }
   ],
   "source": [
    "# Prediksi pada data pelatihan\n",
    "y_train_pred_nn = model_nn.predict(x_train)\n",
    "y_train_pred_nn = (y_train_pred_nn > 0.5).astype(int).flatten()\n",
    "\n",
    "# Prediksi pada data pengujian\n",
    "y_test_pred_nn = model_nn.predict(x_test)\n",
    "y_test_pred_nn = (y_test_pred_nn > 0.5).astype(int).flatten()"
   ]
  },
  {
   "cell_type": "code",
   "execution_count": 232,
   "id": "ae74f0b6",
   "metadata": {},
   "outputs": [
    {
     "name": "stdout",
     "output_type": "stream",
     "text": [
      "Recall (Training): 0.043478260869565216\n",
      "Recall (Testing): 0.02631578947368421\n"
     ]
    }
   ],
   "source": [
    "from sklearn.metrics import recall_score\n",
    "\n",
    "# Menghitung recall dengan average='macro'\n",
    "nn_train_recall = recall_score(y_train, y_train_pred_nn, average='macro')\n",
    "nn_test_recall = recall_score(y_test, y_test_pred_nn, average='macro')\n",
    "\n",
    "print(f'Recall (Training): {nn_train_recall}')\n",
    "print(f'Recall (Testing): {nn_test_recall}')"
   ]
  },
  {
   "cell_type": "code",
   "execution_count": 235,
   "id": "80f47156",
   "metadata": {},
   "outputs": [],
   "source": [
    "# Plotting the results\n",
    "labels = ['NN Train', 'NN Test']\n",
    "recalls = [nn_train_recall, nn_test_recall]"
   ]
  }
 ],
 "metadata": {
  "kaggle": {
   "accelerator": "none",
   "dataSources": [
    {
     "datasetId": 174616,
     "sourceId": 394223,
     "sourceType": "datasetVersion"
    }
   ],
   "dockerImageVersionId": 30746,
   "isGpuEnabled": false,
   "isInternetEnabled": true,
   "language": "python",
   "sourceType": "notebook"
  },
  "kernelspec": {
   "display_name": "Python 3",
   "language": "python",
   "name": "python3"
  },
  "language_info": {
   "codemirror_mode": {
    "name": "ipython",
    "version": 3
   },
   "file_extension": ".py",
   "mimetype": "text/x-python",
   "name": "python",
   "nbconvert_exporter": "python",
   "pygments_lexer": "ipython3",
   "version": "3.9.13"
  },
  "papermill": {
   "default_parameters": {},
   "duration": 254.846736,
   "end_time": "2024-07-24T20:18:59.516547",
   "environment_variables": {},
   "exception": null,
   "input_path": "__notebook__.ipynb",
   "output_path": "__notebook__.ipynb",
   "parameters": {},
   "start_time": "2024-07-24T20:14:44.669811",
   "version": "2.5.0"
  }
 },
 "nbformat": 4,
 "nbformat_minor": 5
}
